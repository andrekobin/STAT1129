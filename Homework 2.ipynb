{
 "cells": [
  {
   "cell_type": "code",
   "execution_count": 43,
   "metadata": {},
   "outputs": [
    {
     "name": "stdout",
     "output_type": "stream",
     "text": [
      "0\n",
      "1\n",
      "2\n",
      "3\n",
      "4\n"
     ]
    }
   ],
   "source": [
    "n=0\n",
    "while n < 10:\n",
    "    print (n)\n",
    "    if n == 4:\n",
    "        break\n",
    "    n += 1   "
   ]
  },
  {
   "cell_type": "code",
   "execution_count": 14,
   "metadata": {},
   "outputs": [
    {
     "name": "stdout",
     "output_type": "stream",
     "text": [
      "0\n",
      "1\n",
      "2\n",
      "3\n",
      "4\n",
      "5 is not less than 5\n"
     ]
    }
   ],
   "source": [
    "n=0\n",
    "while n < 5:\n",
    "    print (n)\n",
    "    n += 1\n",
    "else:\n",
    "    print(n, \"is not less than 5\")"
   ]
  },
  {
   "cell_type": "code",
   "execution_count": 45,
   "metadata": {},
   "outputs": [
    {
     "name": "stdout",
     "output_type": "stream",
     "text": [
      "I like banana\n",
      "I like orange\n",
      "I like pineapple\n",
      "I like kiwi\n",
      "Is apple really a fruit?\n"
     ]
    }
   ],
   "source": [
    "fruits = [\"banana\",\"orange\",\"pineapple\",\"kiwi\",\"apple\"]\n",
    "for fruit in fruits:\n",
    "    if fruit == \"apple\":\n",
    "        break\n",
    "    print (\"I like\", fruit)\n",
    "    \n",
    "print (\"Is apple really a fruit?\")"
   ]
  },
  {
   "cell_type": "code",
   "execution_count": 46,
   "metadata": {},
   "outputs": [
    {
     "name": "stdout",
     "output_type": "stream",
     "text": [
      "The sum is 465\n"
     ]
    }
   ],
   "source": [
    "n = 30\n",
    "sum = 0\n",
    "i = 1\n",
    "\n",
    "while i <= n:\n",
    "    sum = sum + i\n",
    "    i = i + 1\n",
    "    \n",
    "print (\"The sum is\", sum)"
   ]
  },
  {
   "cell_type": "code",
   "execution_count": 61,
   "metadata": {},
   "outputs": [
    {
     "name": "stdout",
     "output_type": "stream",
     "text": [
      "If Sunny let us play\n",
      "If Rainy let us watch TV\n",
      "If Cloudy let us walk\n",
      "New Dictionary with Snowy and ski added\n",
      "If Sunny let us play\n",
      "If Rainy let us watch TV\n",
      "If Cloudy let us walk\n",
      "If Snowy let us ski\n"
     ]
    }
   ],
   "source": [
    "weather_dictionary = {'Sunny':'play','Rainy':'watch TV','Cloudy': 'walk'}\n",
    "for key, value in weather_dictionary.items():\n",
    "    print(f'If {key} let us {value}')\n",
    "weather_dictionary.update({'Snowy':'ski'})\n",
    "print(\"New Dictionary with Snowy and ski added\")\n",
    "for key, value in weather_dictionary.items():\n",
    "    print(f'If {key} let us {value}')"
   ]
  },
  {
   "cell_type": "code",
   "execution_count": 64,
   "metadata": {},
   "outputs": [
    {
     "name": "stdout",
     "output_type": "stream",
     "text": [
      "When Sunny let us play\n",
      "When Rainy let us watch TV\n",
      "When Cloudy let us walk\n",
      "When Snowy let us ski\n"
     ]
    }
   ],
   "source": [
    "weather_dictionary1 = {'Sunny':'play','Rainy':'watch TV','Cloudy': 'walk'}\n",
    "for key, value in weather_dictionary.items():\n",
    "    if key == 'Sunny':\n",
    "        print(\"When\", key, \"let us\", value)\n",
    "    elif key == 'Rainy':\n",
    "        print(\"When\", key, \"let us\", value)\n",
    "    else:\n",
    "        print(\"When\", key, \"let us\", value)    "
   ]
  },
  {
   "cell_type": "code",
   "execution_count": 59,
   "metadata": {},
   "outputs": [
    {
     "name": "stdout",
     "output_type": "stream",
     "text": [
      "C\n"
     ]
    }
   ],
   "source": [
    "grade = 73\n",
    "\n",
    "if grade >= 90:\n",
    "    print('A')\n",
    "elif grade >= 80:\n",
    "    print('B')\n",
    "elif grade >= 70:\n",
    "    print('C')\n",
    "elif grade >= 60:\n",
    "    print('D')\n",
    "else:\n",
    "    print('F')"
   ]
  },
  {
   "cell_type": "code",
   "execution_count": null,
   "metadata": {},
   "outputs": [],
   "source": []
  }
 ],
 "metadata": {
  "kernelspec": {
   "display_name": "Python 3",
   "language": "python",
   "name": "python3"
  },
  "language_info": {
   "codemirror_mode": {
    "name": "ipython",
    "version": 3
   },
   "file_extension": ".py",
   "mimetype": "text/x-python",
   "name": "python",
   "nbconvert_exporter": "python",
   "pygments_lexer": "ipython3",
   "version": "3.7.6"
  }
 },
 "nbformat": 4,
 "nbformat_minor": 4
}
